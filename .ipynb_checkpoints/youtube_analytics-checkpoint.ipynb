{
 "cells": [
  {
   "cell_type": "code",
   "execution_count": 1,
   "id": "c2afa33f",
   "metadata": {},
   "outputs": [],
   "source": [
    "import numpy as np\n",
    "import pandas as pd\n",
    "import json\n",
    "from pyyoutube import Api\n",
    "import requests\n",
    "from datetime import datetime\n",
    "from dateutil import parser"
   ]
  },
  {
   "cell_type": "code",
   "execution_count": 2,
   "id": "daacb7d4",
   "metadata": {},
   "outputs": [],
   "source": [
    "data = json.load(open('research/output/youtube_data.json'))\n",
    "credentials = json.load(open(\"research/input/creds.json\"))\n",
    "AUTH_CREDS = 'research/input/client_secret.json'\n",
    "API_KEY = credentials[\"api_key\"]\n",
    "ANALYTICS_API_KEY = credentials[\"analytics_api_key\"]\n",
    "api = Api(api_key=API_KEY)\n",
    "SCOPES = ['https://www.googleapis.com/auth/youtube.readonly']"
   ]
  },
  {
   "cell_type": "code",
   "execution_count": 3,
   "id": "46e17e9b",
   "metadata": {},
   "outputs": [],
   "source": [
    "channels = {}\n",
    "for video, content in data.items():\n",
    "    channel = content[\"channelTitle\"]\n",
    "    channel_id = content[\"channelId\"]\n",
    "    if channel not in channels:\n",
    "        channels[channel] = {\"id\":channel_id, \"videos\":[]}\n",
    "    channels[channel][\"videos\"].append({'video_id':video,\n",
    "                                        'annots':content['annots'], \n",
    "                                        'publishedAt':content['publishedAt'],\n",
    "                                        'viewCount': content['viewCount'],\n",
    "                                        'likeCount': content['likeCount'],\n",
    "                                        'commentCount': content['commentCount'],\n",
    "                                        'sector': content['sector']\n",
    "                                         })"
   ]
  },
  {
   "cell_type": "code",
   "execution_count": 7,
   "id": "257ae04a",
   "metadata": {},
   "outputs": [],
   "source": [
    "for channel, content in channels.items():\n",
    "    dt_list = []\n",
    "    content_list = []\n",
    "    for i in range(len(content[\"videos\"])):\n",
    "        t = channels[channel][\"videos\"][i][\"publishedAt\"]\n",
    "        dt_object = parser.parse(t)\n",
    "        dt_list.append(dt_object)\n",
    "        content_list.append(i)\n",
    "    y = sorted(dt_list)\n",
    "    dt_list, content_list = zip(*sorted(zip(dt_list, content_list)))\n",
    "    final = []\n",
    "    for index in content_list:\n",
    "        final.append(content[\"videos\"][index])\n",
    "    video = api.get_channel_info(channel_id=channels[channel][\"id\"]).items[0].to_dict()\n",
    "    channels[channel][\"title\"] = video[\"snippet\"][\"title\"]\n",
    "    channels[channel][\"region\"] = video[\"brandingSettings\"][\"channel\"][\"country\"]\n",
    "    channels[channel][\"channelViewCount\"] = video[\"statistics\"][\"viewCount\"]\n",
    "    channels[channel][\"subscriberCount\"] = video[\"statistics\"][\"subscriberCount\"]\n",
    "    channels[channel][\"totalUploads\"] = video[\"statistics\"][\"videoCount\"]\n",
    "    channels[channel][\"launchDate\"] = video[\"snippet\"][\"publishedAt\"]\n",
    "    channels[channel][\"videos\"] = final"
   ]
  },
  {
   "cell_type": "code",
   "execution_count": 8,
   "id": "16990ffd-85fb-4370-baf5-354fab453491",
   "metadata": {},
   "outputs": [],
   "source": [
    "with open('research/output/channels.json', 'w') as f:\n",
    "    json.dump(channels, f)"
   ]
  },
  {
   "cell_type": "code",
   "execution_count": 5,
   "id": "33113d28",
   "metadata": {},
   "outputs": [],
   "source": [
    "import os\n",
    "import google.oauth2.credentials\n",
    "from googleapiclient.discovery import build\n",
    "from googleapiclient.errors import HttpError\n",
    "from google_auth_oauthlib.flow import InstalledAppFlow"
   ]
  },
  {
   "cell_type": "code",
   "execution_count": 6,
   "id": "ef75bfab",
   "metadata": {},
   "outputs": [],
   "source": [
    "youtube_analytics = build('youtube', 'v3', developerKey=ANALYTICS_API_KEY)"
   ]
  },
  {
   "cell_type": "code",
   "execution_count": null,
   "id": "b7f0c596",
   "metadata": {},
   "outputs": [],
   "source": []
  }
 ],
 "metadata": {
  "kernelspec": {
   "display_name": "Python 3 (ipykernel)",
   "language": "python",
   "name": "python3"
  },
  "language_info": {
   "codemirror_mode": {
    "name": "ipython",
    "version": 3
   },
   "file_extension": ".py",
   "mimetype": "text/x-python",
   "name": "python",
   "nbconvert_exporter": "python",
   "pygments_lexer": "ipython3",
   "version": "3.9.12"
  }
 },
 "nbformat": 4,
 "nbformat_minor": 5
}
