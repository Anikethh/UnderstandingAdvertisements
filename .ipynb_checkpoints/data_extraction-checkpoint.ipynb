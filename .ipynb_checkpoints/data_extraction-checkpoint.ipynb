{
 "cells": [
  {
   "cell_type": "code",
   "execution_count": 1,
   "id": "78ef13b1",
   "metadata": {},
   "outputs": [
    {
     "name": "stderr",
     "output_type": "stream",
     "text": [
      "[nltk_data] Downloading package wordnet to\n",
      "[nltk_data]     C:\\Users\\lenovo\\AppData\\Roaming\\nltk_data...\n",
      "[nltk_data]   Package wordnet is already up-to-date!\n"
     ]
    },
    {
     "data": {
      "text/plain": [
       "True"
      ]
     },
     "execution_count": 1,
     "metadata": {},
     "output_type": "execute_result"
    }
   ],
   "source": [
    "from pytube import YouTube\n",
    "import numpy as np\n",
    "import pandas as pd\n",
    "import json\n",
    "from pyyoutube import Api\n",
    "import requests\n",
    "import nltk\n",
    "# from nltk.corpus import wordnet\n",
    "# nltk.download('wordnet')"
   ]
  },
  {
   "cell_type": "code",
   "execution_count": 2,
   "id": "2bd57f9b",
   "metadata": {},
   "outputs": [],
   "source": [
    "data = json.load(open(\"research/input/annotation.json\"))\n",
    "del data[\"wLXBWt7skfM\"]"
   ]
  },
  {
   "cell_type": "code",
   "execution_count": 3,
   "id": "dac4d5af",
   "metadata": {},
   "outputs": [],
   "source": [
    "API_KEY = json.load(open(\"research/input/creds.json\"))[\"api_key\"]\n",
    "api = Api(api_key=API_KEY)"
   ]
  },
  {
   "cell_type": "markdown",
   "id": "cf97f84b",
   "metadata": {},
   "source": [
    "### private videos"
   ]
  },
  {
   "cell_type": "code",
   "execution_count": 7,
   "id": "8fa80a5a",
   "metadata": {},
   "outputs": [],
   "source": [
    "not_working = {}\n",
    "for video_tag, annots in data.items():\n",
    "    link = \"https://www.youtube.com/watch?v=\" + video_tag\n",
    "    video = YouTube(link)\n",
    "    try:\n",
    "        video.check_availability()\n",
    "    except Exception as e:\n",
    "        not_working[video_tag] = 0"
   ]
  },
  {
   "cell_type": "markdown",
   "id": "d7fd5ae1",
   "metadata": {},
   "source": [
    "### Youtube Data "
   ]
  },
  {
   "cell_type": "code",
   "execution_count": 25,
   "id": "67717a70",
   "metadata": {
    "scrolled": true
   },
   "outputs": [],
   "source": [
    "companies = {}\n",
    "j = 0\n",
    "youtube_data = {}\n",
    "for video_tag, annots in data.items():\n",
    "    j+=1\n",
    "    if video_tag not in not_working:\n",
    "        # print(j)\n",
    "        video = api.get_video_by_id(video_id=video_tag).items[0].to_dict()\n",
    "        youtube_data[video_tag] = {}\n",
    "        youtube_data[video_tag][\"annots\"] = annots\n",
    "        youtube_data[video_tag][\"publishedAt\"] = video[\"snippet\"][\"publishedAt\"]\n",
    "        youtube_data[video_tag][\"title\"] = video[\"snippet\"][\"title\"]\n",
    "        youtube_data[video_tag][\"description\"] = video[\"snippet\"][\"description\"]\n",
    "        channel = video[\"snippet\"][\"channelTitle\"]\n",
    "        channelID = video[\"snippet\"][\"channelId\"]\n",
    "        youtube_data[video_tag][\"channelTitle\"] = channel\n",
    "        youtube_data[video_tag][\"channelId\"] = channelID\n",
    "        youtube_data[video_tag][\"tags\"] = video[\"snippet\"][\"tags\"]\n",
    "        youtube_data[video_tag][\"viewCount\"] = int(video[\"statistics\"][\"viewCount\"])\n",
    "        \n",
    "        youtube_data[video_tag][\"likeCount\"] = int(video[\"statistics\"][\"likeCount\"]) if video[\"statistics\"][\"likeCount\"] != None else 0\n",
    "        # youtube_data[video_tag][\"dislikeCount\"] = int(video[\"statistics\"][\"dislikeCount\"]) if video[\"statistics\"][\"dislikeCount\"] != None else 0\n",
    "        # youtube_data[video_tag][\"commentCount\"] = video[\"statistics\"][\"commentCount\"] if video[\"statistics\"][\"commentCount\"] != None else 0\n",
    "        if \"commentCount\" in video[\"statistics\"] and video[\"statistics\"][\"commentCount\"] is not None:\n",
    "            youtube_data[video_tag][\"commentCount\"] = int(video[\"statistics\"][\"commentCount\"])\n",
    "        else:\n",
    "            youtube_data[video_tag][\"commentCount\"] = 0\n",
    "        youtube_data[video_tag][\"topicCategories\"] = video[\"topicDetails\"][\"topicCategories\"] if video[\"topicDetails\"] != None else []\n",
    "\n",
    "        if channel not in companies:\n",
    "            companies[channel] = [channelID,[], 0]\n",
    "        companies[channel][1].append(video_tag)\n",
    "        companies[channel][2] += 1"
   ]
  },
  {
   "cell_type": "code",
   "execution_count": 35,
   "id": "b4c6be33-bd34-41a4-93ab-4fe8c0f234b8",
   "metadata": {},
   "outputs": [
    {
     "name": "stdout",
     "output_type": "stream",
     "text": [
      "0\n",
      "0\n",
      "0\n",
      "39\n",
      "2\n",
      "78\n"
     ]
    }
   ],
   "source": [
    "# \"8xVeJDwpeNo\"\n",
    "limit = 5\n",
    "\n",
    "for index, (video_tag, annots) in enumerate(data.items()):\n",
    "    video = api.get_video_by_id(video_id=video_tag).items[0].to_dict()\n",
    "    print(youtube_data[video_tag][\"commentCount\"])\n",
    "    # print(video[\"statistics\"])\n",
    "    if index >= limit:\n",
    "        break\n",
    "\n",
    "# for video_tag, annots in data.items():\n",
    "#     video = api.get_video_by_id(video_id=video_tag).items[0].to_dict()\n",
    "#     print(video[\"statistics\"])\n",
    "#     break"
   ]
  },
  {
   "cell_type": "markdown",
   "id": "03609fdc",
   "metadata": {},
   "source": [
    "### sectors"
   ]
  },
  {
   "cell_type": "code",
   "execution_count": 36,
   "id": "8800b6ea",
   "metadata": {},
   "outputs": [],
   "source": [
    "yt_channel_to_company_mappings = {\n",
    "    \"stanley tools\":\"Stanley Black & Decker\",\n",
    "    \"o'reilly auto parts\":\"O'Reilly Automotive\",\n",
    "    \"southern california edison\":\"Edison International\",\n",
    "    \"wd\":\"Western Digital\",\n",
    "    \"viacom18 studios\": \"Viacom\",\n",
    "    \"corning incorporated\": \"Corning\",\n",
    "    \"bd\": \"Becton Dickinson\",\n",
    "    \"hii\": \"Huntington Ingalls\",\n",
    "    \"new york life insurance company\": \"New York Life Insurance\",\n",
    "    \"pacific gas & electric\": \"PG&E\",\n",
    "    \"cigna healthcare\" : \"Cigna\", \n",
    "    \"progressive insurance\": \"Progressive\",\n",
    "    \"ups\": \"United Parcel Service\",\n",
    "    \"caci international inc\": \"CACI International\",\n",
    "    \"consumers energy\": \"CMS Energy\",\n",
    "    \"microntechnology\": \"Micron Technology\",\n",
    "    \"kenworth truck co.\": \"Paccar\"\n",
    "}"
   ]
  },
  {
   "cell_type": "code",
   "execution_count": 37,
   "id": "0a1de636",
   "metadata": {},
   "outputs": [],
   "source": [
    "fortune500 = pd.read_csv(\"research/input/fortune-500.csv\")"
   ]
  },
  {
   "cell_type": "code",
   "execution_count": 38,
   "id": "91563b82",
   "metadata": {},
   "outputs": [],
   "source": [
    "sectors = {}\n",
    "_500companies = {}\n",
    "for i in range(len(fortune500)):\n",
    "    company = fortune500[\"Name\"].iloc[i]\n",
    "    sector = fortune500[\"Sector\"].iloc[i]\n",
    "    if sector not in sectors:\n",
    "        sectors[sector] = 0\n",
    "    _500companies[company.lower()] = sector\n",
    "    sectors[sector] += 1"
   ]
  },
  {
   "cell_type": "code",
   "execution_count": 39,
   "id": "24f20dd6",
   "metadata": {},
   "outputs": [],
   "source": [
    "def add_sector(dict_, company_entry, sector):\n",
    "    for entry in company_entry[1]:\n",
    "        dict_[entry][\"sector\"] = sector\n",
    "    return dict_"
   ]
  },
  {
   "cell_type": "code",
   "execution_count": 40,
   "id": "8439b4e4",
   "metadata": {},
   "outputs": [],
   "source": [
    "company_list = sorted(list(_500companies.keys()))\n",
    "company_vocab = {}\n",
    "for company in company_list:\n",
    "    tokens = company.split()\n",
    "    for token in tokens:\n",
    "        if token not in company_vocab:\n",
    "            company_vocab[token] = []\n",
    "        company_vocab[token].append(company)"
   ]
  },
  {
   "cell_type": "code",
   "execution_count": 41,
   "id": "05a5ef4c",
   "metadata": {},
   "outputs": [],
   "source": [
    "import difflib as dl\n",
    "\n",
    "j = 0\n",
    "for company, values in companies.items():\n",
    "    company = company.lower()\n",
    "    j+=1\n",
    "    if company not in _500companies:\n",
    "        flag = 1\n",
    "        for _500company in company_list:\n",
    "            if company in _500company:\n",
    "                youtube_data = add_sector(youtube_data, values, _500companies[_500company])\n",
    "                flag = 0\n",
    "                break\n",
    "                \n",
    "        if flag == 1:\n",
    "            possible = dl.get_close_matches(company, company_list)\n",
    "            if len(possible)>0:\n",
    "                if len(possible) == 1:\n",
    "                    youtube_data = add_sector(youtube_data, values, _500companies[possible[0]])\n",
    "                    flag = 0\n",
    "        if flag == 1:\n",
    "            split_names = company.split()\n",
    "            buffer = []\n",
    "            for split_name in split_names:\n",
    "                if split_name in company_vocab:\n",
    "                    buffer += company_vocab[split_name]\n",
    "                else:\n",
    "                    pass\n",
    "            if len(buffer) == 1:\n",
    "                youtube_data = add_sector(youtube_data, values, _500companies[buffer[0]])\n",
    "            else:\n",
    "                youtube_data = add_sector(youtube_data, values, _500companies[yt_channel_to_company_mappings[company].lower()])\n",
    "    else:\n",
    "        youtube_data = add_sector(youtube_data, values, _500companies[company])"
   ]
  },
  {
   "cell_type": "code",
   "execution_count": 42,
   "id": "31d186db",
   "metadata": {},
   "outputs": [],
   "source": [
    "with open('research/output/youtube_data.json', 'w') as f:\n",
    "    json.dump(youtube_data, f)"
   ]
  },
  {
   "cell_type": "markdown",
   "id": "cda437b4",
   "metadata": {},
   "source": [
    "### transcript and comments"
   ]
  },
  {
   "cell_type": "code",
   "execution_count": null,
   "id": "6c953ea8",
   "metadata": {},
   "outputs": [],
   "source": []
  }
 ],
 "metadata": {
  "kernelspec": {
   "display_name": "Python 3 (ipykernel)",
   "language": "python",
   "name": "python3"
  },
  "language_info": {
   "codemirror_mode": {
    "name": "ipython",
    "version": 3
   },
   "file_extension": ".py",
   "mimetype": "text/x-python",
   "name": "python",
   "nbconvert_exporter": "python",
   "pygments_lexer": "ipython3",
   "version": "3.9.12"
  }
 },
 "nbformat": 4,
 "nbformat_minor": 5
}
