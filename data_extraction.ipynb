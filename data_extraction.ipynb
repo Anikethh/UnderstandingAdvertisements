{
 "cells": [
  {
   "cell_type": "code",
   "execution_count": 1,
   "id": "78ef13b1",
   "metadata": {},
   "outputs": [],
   "source": [
    "from pytube import YouTube\n",
    "import numpy as np\n",
    "import pandas as pd\n",
    "import json\n",
    "from pyyoutube import Api\n",
    "import requests\n",
    "import nltk\n",
    "# from nltk.corpus import wordnet\n",
    "# nltk.download('wordnet')"
   ]
  },
  {
   "cell_type": "code",
   "execution_count": 65,
   "id": "2bd57f9b",
   "metadata": {},
   "outputs": [],
   "source": [
    "# data = json.load(open(\"research/input/annotation.json\"))\n",
    "# del data[\"wLXBWt7skfM\"]\n",
    "data0 = json.load(open(\"research/input/strategy_vids_0.json\"))\n",
    "data1 = json.load(open(\"research/input/strategy_vids_1.json\"))\n",
    "data2 = json.load(open(\"research/input/strategy_vids_2.json\"))"
   ]
  },
  {
   "cell_type": "code",
   "execution_count": 66,
   "id": "8e556e94-b227-4775-bcf0-b955644534a6",
   "metadata": {},
   "outputs": [],
   "source": [
    "data = {}\n",
    "for d in (data0, data1, data2): \n",
    "    data.update(d)"
   ]
  },
  {
   "cell_type": "code",
   "execution_count": 51,
   "id": "d92522b2-a293-4a0f-963c-83d6f702c743",
   "metadata": {},
   "outputs": [],
   "source": [
    "data = json.load(open(\"research/input/new_annotations.json\"))"
   ]
  },
  {
   "cell_type": "code",
   "execution_count": 12,
   "id": "acb79645-ba89-401f-8833-5c53a681699c",
   "metadata": {},
   "outputs": [
    {
     "name": "stdout",
     "output_type": "stream",
     "text": [
      "ZNz2qF6r3Kc {'url': 'https://www.youtube.com/watch?v=ZNz2qF6r3Kc', 'topics': ['Reciprocity, Social Impact, Social Proof']}\n"
     ]
    }
   ],
   "source": [
    "for video_tag, annots in data.items():\n",
    "    print(video_tag, annots)\n",
    "    break"
   ]
  },
  {
   "cell_type": "code",
   "execution_count": 15,
   "id": "1d6542c4-891b-4b3c-8905-0883695c1e9b",
   "metadata": {},
   "outputs": [
    {
     "name": "stdout",
     "output_type": "stream",
     "text": [
      "ZNz2qF6r3Kc ['Reciprocity, Social Impact, Social Proof']\n"
     ]
    }
   ],
   "source": [
    "for video_tag, annots in data.items():\n",
    "    print(video_tag, annots['topics'])\n",
    "    break"
   ]
  },
  {
   "cell_type": "code",
   "execution_count": 16,
   "id": "dac4d5af",
   "metadata": {},
   "outputs": [],
   "source": [
    "API_KEY = json.load(open(\"research/input/creds.json\"))[\"api_key\"]\n",
    "api = Api(api_key=API_KEY)"
   ]
  },
  {
   "cell_type": "markdown",
   "id": "cf97f84b",
   "metadata": {},
   "source": [
    "### private videos"
   ]
  },
  {
   "cell_type": "code",
   "execution_count": 17,
   "id": "8fa80a5a",
   "metadata": {},
   "outputs": [
    {
     "name": "stderr",
     "output_type": "stream",
     "text": [
      "\n",
      "KeyboardInterrupt\n",
      "\n"
     ]
    }
   ],
   "source": [
    "not_working = {}\n",
    "for video_tag, annots in data.items():\n",
    "    link = \"https://www.youtube.com/watch?v=\" + video_tag\n",
    "    video = YouTube(link)\n",
    "    try:\n",
    "        video.check_availability()\n",
    "    except Exception as e:\n",
    "        not_working[video_tag] = 0"
   ]
  },
  {
   "cell_type": "code",
   "execution_count": 18,
   "id": "6cbddbca-113c-4ed0-9b3b-67b32765beb5",
   "metadata": {},
   "outputs": [
    {
     "name": "stdout",
     "output_type": "stream",
     "text": [
      "{}\n"
     ]
    }
   ],
   "source": [
    "print(not_working)"
   ]
  },
  {
   "cell_type": "markdown",
   "id": "d7fd5ae1",
   "metadata": {},
   "source": [
    "### Youtube Data "
   ]
  },
  {
   "cell_type": "code",
   "execution_count": 69,
   "id": "67717a70",
   "metadata": {
    "scrolled": true
   },
   "outputs": [
    {
     "name": "stdout",
     "output_type": "stream",
     "text": [
      "1000\n",
      "2000\n",
      "3000\n",
      "4000\n"
     ]
    },
    {
     "ename": "PyYouTubeException",
     "evalue": "YouTubeException(status_code=403,message=The request cannot be completed because you have exceeded your <a href=\"/youtube/v3/getting-started#quota\">quota</a>.)",
     "output_type": "error",
     "traceback": [
      "\u001b[1;31m---------------------------------------------------------------------------\u001b[0m",
      "\u001b[1;31mPyYouTubeException\u001b[0m                        Traceback (most recent call last)",
      "Input \u001b[1;32mIn [69]\u001b[0m, in \u001b[0;36m<cell line: 4>\u001b[1;34m()\u001b[0m\n\u001b[0;32m      8\u001b[0m \u001b[38;5;28;01mif\u001b[39;00m video_tag \u001b[38;5;129;01mnot\u001b[39;00m \u001b[38;5;129;01min\u001b[39;00m not_working:\n\u001b[0;32m      9\u001b[0m     \u001b[38;5;28;01mif\u001b[39;00m \u001b[38;5;28mlen\u001b[39m(api\u001b[38;5;241m.\u001b[39mget_video_by_id(video_id\u001b[38;5;241m=\u001b[39mvideo_tag)\u001b[38;5;241m.\u001b[39mitems) \u001b[38;5;241m>\u001b[39m \u001b[38;5;241m0\u001b[39m:\n\u001b[1;32m---> 10\u001b[0m         video \u001b[38;5;241m=\u001b[39m \u001b[43mapi\u001b[49m\u001b[38;5;241;43m.\u001b[39;49m\u001b[43mget_video_by_id\u001b[49m\u001b[43m(\u001b[49m\u001b[43mvideo_id\u001b[49m\u001b[38;5;241;43m=\u001b[39;49m\u001b[43mvideo_tag\u001b[49m\u001b[43m)\u001b[49m\u001b[38;5;241m.\u001b[39mitems[\u001b[38;5;241m0\u001b[39m]\u001b[38;5;241m.\u001b[39mto_dict()\n\u001b[0;32m     11\u001b[0m     \u001b[38;5;28;01melse\u001b[39;00m:\n\u001b[0;32m     12\u001b[0m         \u001b[38;5;28;01mcontinue\u001b[39;00m\n",
      "File \u001b[1;32mD:\\Softwares\\lib\\site-packages\\pyyoutube\\api.py:2338\u001b[0m, in \u001b[0;36mApi.get_video_by_id\u001b[1;34m(self, video_id, parts, hl, max_height, max_width, return_json)\u001b[0m\n\u001b[0;32m   2335\u001b[0m     args[\u001b[38;5;124m\"\u001b[39m\u001b[38;5;124mmaxWidth\u001b[39m\u001b[38;5;124m\"\u001b[39m] \u001b[38;5;241m=\u001b[39m max_width\n\u001b[0;32m   2337\u001b[0m resp \u001b[38;5;241m=\u001b[39m \u001b[38;5;28mself\u001b[39m\u001b[38;5;241m.\u001b[39m_request(resource\u001b[38;5;241m=\u001b[39m\u001b[38;5;124m\"\u001b[39m\u001b[38;5;124mvideos\u001b[39m\u001b[38;5;124m\"\u001b[39m, method\u001b[38;5;241m=\u001b[39m\u001b[38;5;124m\"\u001b[39m\u001b[38;5;124mGET\u001b[39m\u001b[38;5;124m\"\u001b[39m, args\u001b[38;5;241m=\u001b[39margs)\n\u001b[1;32m-> 2338\u001b[0m data \u001b[38;5;241m=\u001b[39m \u001b[38;5;28;43mself\u001b[39;49m\u001b[38;5;241;43m.\u001b[39;49m\u001b[43m_parse_response\u001b[49m\u001b[43m(\u001b[49m\u001b[43mresp\u001b[49m\u001b[43m)\u001b[49m\n\u001b[0;32m   2340\u001b[0m \u001b[38;5;28;01mif\u001b[39;00m return_json:\n\u001b[0;32m   2341\u001b[0m     \u001b[38;5;28;01mreturn\u001b[39;00m data\n",
      "File \u001b[1;32mD:\\Softwares\\lib\\site-packages\\pyyoutube\\api.py:327\u001b[0m, in \u001b[0;36mApi._parse_response\u001b[1;34m(response)\u001b[0m\n\u001b[0;32m    325\u001b[0m data \u001b[38;5;241m=\u001b[39m response\u001b[38;5;241m.\u001b[39mjson()\n\u001b[0;32m    326\u001b[0m \u001b[38;5;28;01mif\u001b[39;00m \u001b[38;5;124m\"\u001b[39m\u001b[38;5;124merror\u001b[39m\u001b[38;5;124m\"\u001b[39m \u001b[38;5;129;01min\u001b[39;00m data:\n\u001b[1;32m--> 327\u001b[0m     \u001b[38;5;28;01mraise\u001b[39;00m PyYouTubeException(response)\n\u001b[0;32m    328\u001b[0m \u001b[38;5;28;01mreturn\u001b[39;00m data\n",
      "\u001b[1;31mPyYouTubeException\u001b[0m: YouTubeException(status_code=403,message=The request cannot be completed because you have exceeded your <a href=\"/youtube/v3/getting-started#quota\">quota</a>.)"
     ]
    }
   ],
   "source": [
    "companies = {}\n",
    "j = 0\n",
    "youtube_data = {}\n",
    "for video_tag, annots in data.items():\n",
    "    j+=1\n",
    "    if j%1000 == 0:\n",
    "        print(j)\n",
    "    if video_tag not in not_working:\n",
    "        if len(api.get_video_by_id(video_id=video_tag).items) > 0:\n",
    "            video = api.get_video_by_id(video_id=video_tag).items[0].to_dict()\n",
    "        else:\n",
    "            continue\n",
    "        youtube_data[video_tag] = {}\n",
    "        youtube_data[video_tag][\"annots\"] = annots\n",
    "        youtube_data[video_tag][\"publishedAt\"] = video[\"snippet\"][\"publishedAt\"]\n",
    "        youtube_data[video_tag][\"title\"] = video[\"snippet\"][\"title\"]\n",
    "        youtube_data[video_tag][\"description\"] = video[\"snippet\"][\"description\"]\n",
    "        channel = video[\"snippet\"][\"channelTitle\"]\n",
    "        channelID = video[\"snippet\"][\"channelId\"]\n",
    "        youtube_data[video_tag][\"channelTitle\"] = channel\n",
    "        youtube_data[video_tag][\"channelId\"] = channelID\n",
    "        youtube_data[video_tag][\"tags\"] = video[\"snippet\"][\"tags\"]\n",
    "        youtube_data[video_tag][\"viewCount\"] = int(video[\"statistics\"][\"viewCount\"])\n",
    "        \n",
    "        youtube_data[video_tag][\"likeCount\"] = int(video[\"statistics\"][\"likeCount\"]) if video[\"statistics\"][\"likeCount\"] != None else 0\n",
    "        # youtube_data[video_tag][\"dislikeCount\"] = int(video[\"statistics\"][\"dislikeCount\"]) if video[\"statistics\"][\"dislikeCount\"] != None else 0\n",
    "        # youtube_data[video_tag][\"commentCount\"] = video[\"statistics\"][\"commentCount\"] if video[\"statistics\"][\"commentCount\"] != None else 0\n",
    "        if \"commentCount\" in video[\"statistics\"] and video[\"statistics\"][\"commentCount\"] is not None:\n",
    "            youtube_data[video_tag][\"commentCount\"] = int(video[\"statistics\"][\"commentCount\"])\n",
    "        else:\n",
    "            youtube_data[video_tag][\"commentCount\"] = 0\n",
    "        youtube_data[video_tag][\"topicCategories\"] = video[\"topicDetails\"][\"topicCategories\"] if video[\"topicDetails\"] != None else []\n",
    "\n",
    "        if channel not in companies:\n",
    "            companies[channel] = [channelID,[], 0]\n",
    "        companies[channel][1].append(video_tag)\n",
    "        companies[channel][2] += 1"
   ]
  },
  {
   "cell_type": "code",
   "execution_count": 35,
   "id": "b4c6be33-bd34-41a4-93ab-4fe8c0f234b8",
   "metadata": {},
   "outputs": [
    {
     "name": "stdout",
     "output_type": "stream",
     "text": [
      "0\n",
      "0\n",
      "0\n",
      "39\n",
      "2\n",
      "78\n"
     ]
    }
   ],
   "source": [
    "# \"8xVeJDwpeNo\"\n",
    "limit = 5\n",
    "\n",
    "for index, (video_tag, annots) in enumerate(data.items()):\n",
    "    video = api.get_video_by_id(video_id=video_tag).items[0].to_dict()\n",
    "    print(youtube_data[video_tag][\"commentCount\"])\n",
    "    # print(video[\"statistics\"])\n",
    "    if index >= limit:\n",
    "        break\n",
    "\n",
    "# for video_tag, annots in data.items():\n",
    "#     video = api.get_video_by_id(video_id=video_tag).items[0].to_dict()\n",
    "#     print(video[\"statistics\"])\n",
    "#     break"
   ]
  },
  {
   "cell_type": "markdown",
   "id": "03609fdc",
   "metadata": {},
   "source": [
    "### sectors"
   ]
  },
  {
   "cell_type": "code",
   "execution_count": 36,
   "id": "8800b6ea",
   "metadata": {},
   "outputs": [],
   "source": [
    "yt_channel_to_company_mappings = {\n",
    "    \"stanley tools\":\"Stanley Black & Decker\",\n",
    "    \"o'reilly auto parts\":\"O'Reilly Automotive\",\n",
    "    \"southern california edison\":\"Edison International\",\n",
    "    \"wd\":\"Western Digital\",\n",
    "    \"viacom18 studios\": \"Viacom\",\n",
    "    \"corning incorporated\": \"Corning\",\n",
    "    \"bd\": \"Becton Dickinson\",\n",
    "    \"hii\": \"Huntington Ingalls\",\n",
    "    \"new york life insurance company\": \"New York Life Insurance\",\n",
    "    \"pacific gas & electric\": \"PG&E\",\n",
    "    \"cigna healthcare\" : \"Cigna\", \n",
    "    \"progressive insurance\": \"Progressive\",\n",
    "    \"ups\": \"United Parcel Service\",\n",
    "    \"caci international inc\": \"CACI International\",\n",
    "    \"consumers energy\": \"CMS Energy\",\n",
    "    \"microntechnology\": \"Micron Technology\",\n",
    "    \"kenworth truck co.\": \"Paccar\"\n",
    "}"
   ]
  },
  {
   "cell_type": "code",
   "execution_count": 37,
   "id": "0a1de636",
   "metadata": {},
   "outputs": [],
   "source": [
    "fortune500 = pd.read_csv(\"research/input/fortune-500.csv\")"
   ]
  },
  {
   "cell_type": "code",
   "execution_count": 38,
   "id": "91563b82",
   "metadata": {},
   "outputs": [],
   "source": [
    "sectors = {}\n",
    "_500companies = {}\n",
    "for i in range(len(fortune500)):\n",
    "    company = fortune500[\"Name\"].iloc[i]\n",
    "    sector = fortune500[\"Sector\"].iloc[i]\n",
    "    if sector not in sectors:\n",
    "        sectors[sector] = 0\n",
    "    _500companies[company.lower()] = sector\n",
    "    sectors[sector] += 1"
   ]
  },
  {
   "cell_type": "code",
   "execution_count": 39,
   "id": "24f20dd6",
   "metadata": {},
   "outputs": [],
   "source": [
    "def add_sector(dict_, company_entry, sector):\n",
    "    for entry in company_entry[1]:\n",
    "        dict_[entry][\"sector\"] = sector\n",
    "    return dict_"
   ]
  },
  {
   "cell_type": "code",
   "execution_count": 40,
   "id": "8439b4e4",
   "metadata": {},
   "outputs": [],
   "source": [
    "company_list = sorted(list(_500companies.keys()))\n",
    "company_vocab = {}\n",
    "for company in company_list:\n",
    "    tokens = company.split()\n",
    "    for token in tokens:\n",
    "        if token not in company_vocab:\n",
    "            company_vocab[token] = []\n",
    "        company_vocab[token].append(company)"
   ]
  },
  {
   "cell_type": "code",
   "execution_count": 41,
   "id": "05a5ef4c",
   "metadata": {},
   "outputs": [],
   "source": [
    "import difflib as dl\n",
    "\n",
    "j = 0\n",
    "for company, values in companies.items():\n",
    "    company = company.lower()\n",
    "    j+=1\n",
    "    if company not in _500companies:\n",
    "        flag = 1\n",
    "        for _500company in company_list:\n",
    "            if company in _500company:\n",
    "                youtube_data = add_sector(youtube_data, values, _500companies[_500company])\n",
    "                flag = 0\n",
    "                break\n",
    "                \n",
    "        if flag == 1:\n",
    "            possible = dl.get_close_matches(company, company_list)\n",
    "            if len(possible)>0:\n",
    "                if len(possible) == 1:\n",
    "                    youtube_data = add_sector(youtube_data, values, _500companies[possible[0]])\n",
    "                    flag = 0\n",
    "        if flag == 1:\n",
    "            split_names = company.split()\n",
    "            buffer = []\n",
    "            for split_name in split_names:\n",
    "                if split_name in company_vocab:\n",
    "                    buffer += company_vocab[split_name]\n",
    "                else:\n",
    "                    pass\n",
    "            if len(buffer) == 1:\n",
    "                youtube_data = add_sector(youtube_data, values, _500companies[buffer[0]])\n",
    "            else:\n",
    "                youtube_data = add_sector(youtube_data, values, _500companies[yt_channel_to_company_mappings[company].lower()])\n",
    "    else:\n",
    "        youtube_data = add_sector(youtube_data, values, _500companies[company])"
   ]
  },
  {
   "cell_type": "code",
   "execution_count": 42,
   "id": "31d186db",
   "metadata": {},
   "outputs": [],
   "source": [
    "with open('research/output/youtube_data.json', 'w') as f:\n",
    "    json.dump(youtube_data, f)"
   ]
  },
  {
   "cell_type": "markdown",
   "id": "cda437b4",
   "metadata": {},
   "source": [
    "### transcript and comments"
   ]
  },
  {
   "cell_type": "code",
   "execution_count": null,
   "id": "6c953ea8",
   "metadata": {},
   "outputs": [],
   "source": []
  }
 ],
 "metadata": {
  "kernelspec": {
   "display_name": "Python 3 (ipykernel)",
   "language": "python",
   "name": "python3"
  },
  "language_info": {
   "codemirror_mode": {
    "name": "ipython",
    "version": 3
   },
   "file_extension": ".py",
   "mimetype": "text/x-python",
   "name": "python",
   "nbconvert_exporter": "python",
   "pygments_lexer": "ipython3",
   "version": "3.9.12"
  }
 },
 "nbformat": 4,
 "nbformat_minor": 5
}
